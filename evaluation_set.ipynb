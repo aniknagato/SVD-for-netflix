{
 "cells": [
  {
   "cell_type": "code",
   "execution_count": 1,
   "metadata": {},
   "outputs": [],
   "source": [
    "import dash\n",
    "import dash_core_components as dcc\n",
    "import dash_html_components as html\n",
    "from dash.dependencies import Input, Output, State, Event\n",
    "import pandas\n",
    "import plotly.graph_objs as go\n",
    "import time\n",
    "import numpy as np\n",
    "from scipy.sparse.linalg import svds\n",
    "from surprise import Reader, Dataset, SVD, evaluate\n",
    "import pickle\n",
    "import time\n",
    "import heapq"
   ]
  },
  {
   "cell_type": "code",
   "execution_count": 2,
   "metadata": {},
   "outputs": [],
   "source": [
    "\n",
    "\n",
    "def mov_list_for_all_users(dr,dm):\n",
    "\n",
    "\n",
    "\n",
    "#     dr = pandas.read_csv('ratings.csv')\n",
    "#     dm = pandas.read_csv('movies.csv')\n",
    "\n",
    "\n",
    "    dr.head(10)\n",
    "\n",
    "    n_users = dr.userId.unique().shape[0]\n",
    "    n_movies = dr.movieId.unique().shape[0]\n",
    "    print ('Number of users = ' + str(n_users) + ' | Number of movies = ' + str(n_movies))\n",
    "\n",
    "    mov_ids = dm['movieId']\n",
    "    mov_dict = {}\n",
    "    i=1\n",
    "    for id1 in mov_ids:\n",
    "        mov_dict[id1]=i\n",
    "        i += 1\n",
    "    len( mov_dict)\n",
    "\n",
    "    # dr.replace({\"movieId\": mov_dict})\n",
    "\n",
    "    rats = dr.pivot(index = 'userId', columns ='movieId', values = 'rating').fillna(0)\n",
    "    rats.head()\n",
    "\n",
    "\n",
    "    A = rats.as_matrix()\n",
    "    A\n",
    "\n",
    "\n",
    "    users_average_rating = np.mean(A, axis = 1)\n",
    "    # users_average_rating\n",
    "    # len(users_average_rating)\n",
    "\n",
    "    rat_diff = A - users_average_rating.reshape(-1,1)\n",
    "    # rat_diff\n",
    "\n",
    "    # sparsity = round(1.0 - len(dr) / float(n_users * n_movies), 3)\n",
    "    # print ('The sparsity level of MovieLens1M dataset is ' +  str(sparsity * 100) + '%')\n",
    "\n",
    "    U, sigma, Vt = svds(rat_diff, k = 20)\n",
    "\n",
    "\n",
    "\n",
    "    sigma_mat = np.diag(sigma)\n",
    "\n",
    "    # sigma_mat\n",
    "\n",
    "    rat_predicted = np.dot(np.dot(U, sigma_mat), Vt) + users_average_rating.reshape(-1, 1)\n",
    "    \n",
    "    rec_mov_all_user = {}\n",
    "    \n",
    "    \n",
    "    user_id_list = dr.userId.unique().tolist()\n",
    "    \n",
    "    for user_id1 in user_id_list:\n",
    "        \n",
    "#         print(user_id1)\n",
    "\n",
    "    \n",
    "    \n",
    "\n",
    "        user_id = int(user_id1)-1\n",
    "        rec_mov = []\n",
    "\n",
    "\n",
    "        rat_predicted_user = rat_predicted[user_id,:]\n",
    "\n",
    "        # rat_predicted_user_list = rat_predicted_user.tolist()\n",
    "\n",
    "        # rat_predicted_user_list = rat_predicted_user\n",
    "\n",
    "\n",
    "        dp = dr.loc[dr['userId'] == int(user_id1)]\n",
    "\n",
    "        user_mvs_ids = dp.iloc[:,1].tolist()\n",
    "\n",
    "\n",
    "        for i in range(0,len(rat_predicted_user)):\n",
    "            if i in user_mvs_ids:\n",
    "                rat_predicted_user[i] =  -1000\n",
    "\n",
    "        rat_predicted_user\n",
    "\n",
    "\n",
    "\n",
    "#         top_5_idx = np.argsort(-rat_predicted_user)[-10:]\n",
    "        \n",
    "        top_5_idx = rat_predicted_user.argsort()[-20:][::-1]\n",
    "\n",
    "        top_5_idx\n",
    "        top_5_id_list = top_5_idx.tolist()\n",
    "\n",
    "        rec_mov_name = []\n",
    "        \n",
    "        itt = 0\n",
    "\n",
    "\n",
    "        for mov_id in top_5_id_list:\n",
    "            \n",
    "            itt += 1\n",
    "\n",
    "            dummy = dm.loc[dm['movieId'] == mov_id]\n",
    "            \n",
    "            if(len(dummy.index)>0):\n",
    "\n",
    "                rec_mov_name.append(dummy.iloc[0,1])\n",
    "#             print(dm.loc[dm['movieId'] == mov_id])\n",
    "            if itt > 10:\n",
    "                break;\n",
    "            \n",
    "        rec_mov_all_user[user_id1] = rec_mov_name\n",
    "\n",
    "        # rec_mov_df = dm.loc[dm['movieId'] in top_5_id_list]\n",
    "\n",
    "    #     print(rec_mov_name)\n",
    "    return rec_mov_all_user"
   ]
  },
  {
   "cell_type": "code",
   "execution_count": 3,
   "metadata": {},
   "outputs": [],
   "source": [
    "# dr = pandas.read_csv('ratings.csv')\n",
    "# dm = pandas.read_csv('movies.csv')\n",
    "\n",
    "\n",
    "# user_id_list = dr.userId.unique().tolist()\n",
    "# user_id_list"
   ]
  },
  {
   "cell_type": "code",
   "execution_count": 4,
   "metadata": {},
   "outputs": [
    {
     "name": "stdout",
     "output_type": "stream",
     "text": [
      "Number of users = 610 | Number of movies = 9724\n"
     ]
    },
    {
     "name": "stderr",
     "output_type": "stream",
     "text": [
      "C:\\Users\\anik\\Anaconda3\\lib\\site-packages\\ipykernel_launcher.py:31: FutureWarning:\n",
      "\n",
      "Method .as_matrix will be removed in a future version. Use .values instead.\n",
      "\n"
     ]
    }
   ],
   "source": [
    "dr = pandas.read_csv('ratings.csv')\n",
    "dm = pandas.read_csv('movies.csv')\n",
    "mov_list_all = mov_list_for_all_users(dr,dm)\n",
    "\n",
    "# print (mov_list_all)"
   ]
  },
  {
   "cell_type": "code",
   "execution_count": 5,
   "metadata": {},
   "outputs": [
    {
     "name": "stdout",
     "output_type": "stream",
     "text": [
      "[\"What's Eating Gilbert Grape (1993)\", 'Chungking Express (Chung Hing sam lam) (1994)', 'Hate (Haine, La) (1995)', 'Orlando (1992)', 'Swimming with Sharks (1995)', 'Being Human (1993)', 'Philadelphia (1993)', 'Piano, The (1993)', 'Secret of Roan Inish, The (1994)']\n"
     ]
    }
   ],
   "source": [
    "print (mov_list_all[240])"
   ]
  },
  {
   "cell_type": "code",
   "execution_count": 6,
   "metadata": {},
   "outputs": [],
   "source": [
    "with open('mov_list_svd.pkl', 'wb') as handle:\n",
    "    pickle.dump(mov_list_all, handle, protocol=pickle.HIGHEST_PROTOCOL)\n"
   ]
  },
  {
   "cell_type": "code",
   "execution_count": 7,
   "metadata": {},
   "outputs": [],
   "source": [
    "def get_movie_ids_from_names(dm,mov_list):\n",
    "    ids = []\n",
    "    for mv in mov_list:\n",
    "        dp = dm.loc[dm['title']==mv]\n",
    "        iden = dp.iloc[0,0]\n",
    "        ids.append(iden)\n",
    "    return ids"
   ]
  },
  {
   "cell_type": "code",
   "execution_count": 11,
   "metadata": {},
   "outputs": [],
   "source": [
    "# for evaluation \n",
    "\n",
    "def get_user_movie_types(dr,dm,user_id):\n",
    "    movie_type = {}\n",
    "    types = []\n",
    "    dp = dr.loc[dr['userId'] == int(user_id)]\n",
    "    dpp = dp.loc[dp['rating'] == 5]\n",
    "    \n",
    "    mov_list = dpp.iloc[:,1].tolist()\n",
    "    \n",
    "    for mv in mov_list:\n",
    "        dummy = dm.loc[dm['movieId'] == int(mv)]\n",
    "        movie_type[dummy.iloc[0,1]] = dummy.iloc[0,2]\n",
    "        arrays = dummy.iloc[0,2].split(\"|\")\n",
    "        for item in arrays:\n",
    "            types.append(item)\n",
    "#         types.append()\n",
    "        \n",
    "    return movie_type,types\n",
    "    \n",
    "def movie_types(dm,mov_list):\n",
    "    types = []\n",
    "    for mv in mov_list:\n",
    "        dp = dm.loc[dm['title']==mv]\n",
    "        arrays = dp.iloc[0,2].split(\"|\")\n",
    "        for item in arrays:\n",
    "            types.append(item)\n",
    "        \n",
    "    return types\n",
    "   \n",
    "def movie_types_by_id(dm,mov_list):\n",
    "    types = []\n",
    "    for mv in mov_list:\n",
    "        dp = dm.loc[dm['movieId']==mv]\n",
    "        arrays = dp.iloc[0,2].split(\"|\")\n",
    "        for item in arrays:\n",
    "            types.append(item)\n",
    "        \n",
    "    return types    \n",
    "\n",
    "\n",
    "            \n",
    "    \n"
   ]
  },
  {
   "cell_type": "code",
   "execution_count": 12,
   "metadata": {},
   "outputs": [
    {
     "name": "stdout",
     "output_type": "stream",
     "text": [
      "{'Musical', 'Action', 'War', 'Adventure', 'Fantasy', 'Romance', 'Animation', 'Thriller', 'Crime', 'Sci-Fi', 'Horror', 'Comedy', 'Children', 'Drama', 'Western'}\n",
      "{'Crime', 'Drama', 'Mystery', 'Comedy', 'Children', 'Romance', 'Fantasy'}\n",
      "......................................\n",
      "Common types of watched and recommended movies.\n",
      "{'Romance', 'Fantasy', 'Crime', 'Comedy', 'Children', 'Drama'}\n"
     ]
    }
   ],
   "source": [
    "# for old user \n",
    "user_type = get_user_movie_types(dr,dm,240)\n",
    "# print(user_type[0])\n",
    "user_movie_types = set(user_type[1])\n",
    "print(set(user_type[1]))\n",
    "\n",
    "mov_list = [\"What's Eating Gilbert Grape (1993)\", 'Chungking Express (Chung Hing sam lam) (1994)', 'Hate (Haine, La) (1995)', 'Orlando (1992)', 'Swimming with Sharks (1995)', 'Being Human (1993)', 'Philadelphia (1993)', 'Piano, The (1993)', 'Secret of Roan Inish, The (1994)']\n",
    "mov_types = set(movie_types(dm,mov_list))\n",
    "print(set(mov_types))\n",
    "print(\"......................................\")\n",
    "print (\"Common types of watched and recommended movies.\")\n",
    "print(user_movie_types.intersection(mov_types))"
   ]
  }
 ],
 "metadata": {
  "kernelspec": {
   "display_name": "Python 3",
   "language": "python",
   "name": "python3"
  },
  "language_info": {
   "codemirror_mode": {
    "name": "ipython",
    "version": 3
   },
   "file_extension": ".py",
   "mimetype": "text/x-python",
   "name": "python",
   "nbconvert_exporter": "python",
   "pygments_lexer": "ipython3",
   "version": "3.6.5"
  }
 },
 "nbformat": 4,
 "nbformat_minor": 2
}
